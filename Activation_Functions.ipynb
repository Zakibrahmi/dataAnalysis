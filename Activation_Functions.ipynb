{
  "nbformat": 4,
  "nbformat_minor": 0,
  "metadata": {
    "colab": {
      "provenance": [],
      "gpuType": "T4",
      "authorship_tag": "ABX9TyP70BchoWmfkYc8jIRNTkOw",
      "include_colab_link": true
    },
    "kernelspec": {
      "name": "python3",
      "display_name": "Python 3"
    },
    "language_info": {
      "name": "python"
    },
    "accelerator": "GPU"
  },
  "cells": [
    {
      "cell_type": "markdown",
      "metadata": {
        "id": "view-in-github",
        "colab_type": "text"
      },
      "source": [
        "<a href=\"https://colab.research.google.com/github/Zakibrahmi/dataAnalysis/blob/main/Activation_Functions.ipynb\" target=\"_parent\"><img src=\"https://colab.research.google.com/assets/colab-badge.svg\" alt=\"Open In Colab\"/></a>"
      ]
    },
    {
      "cell_type": "markdown",
      "source": [
        "Here’s a step-by-step tutorial to compare the performance of different activation functions in a neural network using Python. We’ll use PyTorch for the implementation and focus on comparing Sigmoid, Tanh, ReLU, Leaky ReLU, ELU, and Swish activation functions.\n",
        "\n",
        "Objective\n",
        "We’ll compare the performance of different activation functions by training simple neural networks on a dataset (e.g., MNIST) and measuring:\n",
        "\n",
        "* Accuracy\n",
        "* Training time\n",
        "* Loss convergence rate\n"
      ],
      "metadata": {
        "id": "3_khGVUXmWQ9"
      }
    },
    {
      "cell_type": "code",
      "source": [
        "import torch\n",
        "import torch.nn as nn\n",
        "import torch.optim as optim\n",
        "import torch.nn.functional as F\n",
        "import torchvision\n",
        "import torchvision.transforms as transforms\n",
        "import time\n",
        "import matplotlib.pyplot as plt\n",
        "# Define transformation to normalize the data\n",
        "transform = transforms.Compose([transforms.ToTensor(), transforms.Normalize((0.5,), (0.5,))])\n",
        "\n",
        "# Download and load the training and test datasets\n",
        "trainset = torchvision.datasets.MNIST(root='./data', train=True, download=True, transform=transform)\n",
        "testset = torchvision.datasets.MNIST(root='./data', train=False, download=True, transform=transform)\n",
        "\n",
        "trainloader = torch.utils.data.DataLoader(trainset, batch_size=64, shuffle=True)\n",
        "testloader = torch.utils.data.DataLoader(testset, batch_size=64, shuffle=False)\n"
      ],
      "metadata": {
        "colab": {
          "base_uri": "https://localhost:8080/"
        },
        "id": "sdhWU3rcmec8",
        "outputId": "aeb35204-b0b0-4e07-8b8b-249fbd145623"
      },
      "execution_count": 4,
      "outputs": [
        {
          "output_type": "stream",
          "name": "stdout",
          "text": [
            "Downloading http://yann.lecun.com/exdb/mnist/train-images-idx3-ubyte.gz\n",
            "Failed to download (trying next):\n",
            "HTTP Error 403: Forbidden\n",
            "\n",
            "Downloading https://ossci-datasets.s3.amazonaws.com/mnist/train-images-idx3-ubyte.gz\n",
            "Downloading https://ossci-datasets.s3.amazonaws.com/mnist/train-images-idx3-ubyte.gz to ./data/MNIST/raw/train-images-idx3-ubyte.gz\n"
          ]
        },
        {
          "output_type": "stream",
          "name": "stderr",
          "text": [
            "100%|██████████| 9.91M/9.91M [00:00<00:00, 18.4MB/s]\n"
          ]
        },
        {
          "output_type": "stream",
          "name": "stdout",
          "text": [
            "Extracting ./data/MNIST/raw/train-images-idx3-ubyte.gz to ./data/MNIST/raw\n",
            "\n",
            "Downloading http://yann.lecun.com/exdb/mnist/train-labels-idx1-ubyte.gz\n",
            "Failed to download (trying next):\n",
            "HTTP Error 403: Forbidden\n",
            "\n",
            "Downloading https://ossci-datasets.s3.amazonaws.com/mnist/train-labels-idx1-ubyte.gz\n",
            "Downloading https://ossci-datasets.s3.amazonaws.com/mnist/train-labels-idx1-ubyte.gz to ./data/MNIST/raw/train-labels-idx1-ubyte.gz\n"
          ]
        },
        {
          "output_type": "stream",
          "name": "stderr",
          "text": [
            "100%|██████████| 28.9k/28.9k [00:00<00:00, 485kB/s]\n"
          ]
        },
        {
          "output_type": "stream",
          "name": "stdout",
          "text": [
            "Extracting ./data/MNIST/raw/train-labels-idx1-ubyte.gz to ./data/MNIST/raw\n",
            "\n",
            "Downloading http://yann.lecun.com/exdb/mnist/t10k-images-idx3-ubyte.gz\n",
            "Failed to download (trying next):\n",
            "HTTP Error 403: Forbidden\n",
            "\n",
            "Downloading https://ossci-datasets.s3.amazonaws.com/mnist/t10k-images-idx3-ubyte.gz\n",
            "Downloading https://ossci-datasets.s3.amazonaws.com/mnist/t10k-images-idx3-ubyte.gz to ./data/MNIST/raw/t10k-images-idx3-ubyte.gz\n"
          ]
        },
        {
          "output_type": "stream",
          "name": "stderr",
          "text": [
            "100%|██████████| 1.65M/1.65M [00:00<00:00, 4.40MB/s]\n"
          ]
        },
        {
          "output_type": "stream",
          "name": "stdout",
          "text": [
            "Extracting ./data/MNIST/raw/t10k-images-idx3-ubyte.gz to ./data/MNIST/raw\n",
            "\n",
            "Downloading http://yann.lecun.com/exdb/mnist/t10k-labels-idx1-ubyte.gz\n",
            "Failed to download (trying next):\n",
            "HTTP Error 403: Forbidden\n",
            "\n",
            "Downloading https://ossci-datasets.s3.amazonaws.com/mnist/t10k-labels-idx1-ubyte.gz\n",
            "Downloading https://ossci-datasets.s3.amazonaws.com/mnist/t10k-labels-idx1-ubyte.gz to ./data/MNIST/raw/t10k-labels-idx1-ubyte.gz\n"
          ]
        },
        {
          "output_type": "stream",
          "name": "stderr",
          "text": [
            "100%|██████████| 4.54k/4.54k [00:00<00:00, 3.60MB/s]"
          ]
        },
        {
          "output_type": "stream",
          "name": "stdout",
          "text": [
            "Extracting ./data/MNIST/raw/t10k-labels-idx1-ubyte.gz to ./data/MNIST/raw\n",
            "\n"
          ]
        },
        {
          "output_type": "stream",
          "name": "stderr",
          "text": [
            "\n"
          ]
        }
      ]
    },
    {
      "cell_type": "markdown",
      "source": [
        "**Define Neural Network Model** with Different Activation Functions\n",
        "We’ll define a simple feedforward neural network model and modify the activation function. For comparison, we’ll use **Sigmoid**, **Tanh**, **ReLU**, **Leaky ReLU**, **ELU**, and **Swish**."
      ],
      "metadata": {
        "id": "54EGjaedm1Lc"
      }
    },
    {
      "cell_type": "code",
      "source": [
        "class SimpleNN(nn.Module):\n",
        "    def __init__(self, activation_func):\n",
        "        super(SimpleNN, self).__init__()\n",
        "        self.fc1 = nn.Linear(28*28, 128)\n",
        "        self.fc2 = nn.Linear(128, 64)\n",
        "        self.fc3 = nn.Linear(64, 10)\n",
        "        self.activation_func = activation_func\n",
        "\n",
        "    def forward(self, x):\n",
        "        x = x.view(-1, 28*28)  # Flatten the image\n",
        "        x = self.fc1(x)\n",
        "        x = self.activation_func(x)\n",
        "        x = self.fc2(x)\n",
        "        x = self.activation_func(x)\n",
        "        x = self.fc3(x)\n",
        "        return x\n"
      ],
      "metadata": {
        "id": "rPdXZCBVnBG1"
      },
      "execution_count": 5,
      "outputs": []
    },
    {
      "cell_type": "markdown",
      "source": [
        "**Activation Functions**\n",
        "Now, we will define each activation function, including ReLU, Leaky ReLU, ELU, and Swish.\n"
      ],
      "metadata": {
        "id": "ZC8_zddRnnjn"
      }
    },
    {
      "cell_type": "code",
      "source": [
        "activation_functions = {\n",
        "    'Sigmoid': nn.Sigmoid(),\n",
        "    'Tanh': nn.Tanh(),\n",
        "    'ReLU': nn.ReLU(),\n",
        "    'Leaky ReLU': nn.LeakyReLU(0.01),\n",
        "    'ELU': nn.ELU(),\n",
        "    'Swish': nn.SiLU()  # PyTorch's implementation of Swish\n",
        "}\n"
      ],
      "metadata": {
        "id": "Lqgp1s4InqhG"
      },
      "execution_count": 6,
      "outputs": []
    },
    {
      "cell_type": "markdown",
      "source": [
        "**Training and Evaluation Function**\n",
        "Let’s create functions to train and evaluate the model. We will measure the accuracy and training time for each activation function."
      ],
      "metadata": {
        "id": "8WDXNpVFnw7X"
      }
    },
    {
      "cell_type": "code",
      "source": [
        "def train_model(activation_func):\n",
        "    # Initialize model, loss function, and optimizer\n",
        "    model = SimpleNN(activation_func).cuda()\n",
        "    criterion = nn.CrossEntropyLoss()\n",
        "    optimizer = optim.Adam(model.parameters(), lr=0.001)\n",
        "\n",
        "    # Training loop\n",
        "    start_time = time.time()\n",
        "    for epoch in range(5):  # Run for 5 epochs\n",
        "        model.train()\n",
        "        running_loss = 0.0\n",
        "        correct = 0\n",
        "        total = 0\n",
        "        for inputs, labels in trainloader:\n",
        "            inputs, labels = inputs.cuda(), labels.cuda()\n",
        "\n",
        "            optimizer.zero_grad()\n",
        "\n",
        "            # Forward pass\n",
        "            outputs = model(inputs)\n",
        "            loss = criterion(outputs, labels)\n",
        "\n",
        "            # Backward pass and optimization\n",
        "            loss.backward()\n",
        "            optimizer.step()\n",
        "\n",
        "            running_loss += loss.item()\n",
        "\n",
        "            # Calculate accuracy\n",
        "            _, predicted = torch.max(outputs.data, 1)\n",
        "            total += labels.size(0)\n",
        "            correct += (predicted == labels).sum().item()\n",
        "\n",
        "        accuracy = 100 * correct / total\n",
        "        print(f\"Epoch {epoch+1}, Loss: {running_loss/len(trainloader)}, Accuracy: {accuracy}%\")\n",
        "\n",
        "    training_time = time.time() - start_time\n",
        "    print(f\"Training Time: {training_time:.2f} seconds\")\n",
        "\n",
        "    return model, training_time\n",
        "\n",
        "def evaluate_model(model):\n",
        "    model.eval()\n",
        "    correct = 0\n",
        "    total = 0\n",
        "    with torch.no_grad():\n",
        "        for inputs, labels in testloader:\n",
        "            inputs, labels = inputs.cuda(), labels.cuda()\n",
        "            outputs = model(inputs)\n",
        "            _, predicted = torch.max(outputs.data, 1)\n",
        "            total += labels.size(0)\n",
        "            correct += (predicted == labels).sum().item()\n",
        "    accuracy = 100 * correct / total\n",
        "    print(f\"Test Accuracy: {accuracy}%\")\n",
        "    return accuracy\n"
      ],
      "metadata": {
        "id": "jvySj1f5nzbw"
      },
      "execution_count": 7,
      "outputs": []
    },
    {
      "cell_type": "markdown",
      "source": [
        "**Training and Evaluation for Each Activation Function**"
      ],
      "metadata": {
        "id": "JU0KP-j0oE2Y"
      }
    },
    {
      "cell_type": "code",
      "source": [
        "results = {}\n",
        "\n",
        "for name, activation_func in activation_functions.items():\n",
        "    print(f\"Training with {name} Activation Function\")\n",
        "    model, training_time = train_model(activation_func)\n",
        "    accuracy = evaluate_model(model)\n",
        "    results[name] = {'accuracy': accuracy, 'training_time': training_time}\n",
        "\n",
        "# Display the results\n",
        "for name, result in results.items():\n",
        "    print(f\"{name}: Accuracy = {result['accuracy']}%, Training Time = {result['training_time']:.2f} seconds\")\n"
      ],
      "metadata": {
        "colab": {
          "base_uri": "https://localhost:8080/"
        },
        "id": "jn2zkIZVoHVG",
        "outputId": "72daf696-ef68-4ce2-c38c-a6788d6e83df"
      },
      "execution_count": 8,
      "outputs": [
        {
          "output_type": "stream",
          "name": "stdout",
          "text": [
            "Training with Sigmoid Activation Function\n",
            "Epoch 1, Loss: 0.6500631938261519, Accuracy: 83.76666666666667%\n",
            "Epoch 2, Loss: 0.2180408530834832, Accuracy: 93.77%\n",
            "Epoch 3, Loss: 0.15565687230528036, Accuracy: 95.53%\n",
            "Epoch 4, Loss: 0.11948564032148291, Accuracy: 96.51666666666667%\n",
            "Epoch 5, Loss: 0.0988520856158359, Accuracy: 97.08%\n",
            "Training Time: 70.95 seconds\n",
            "Test Accuracy: 96.78%\n",
            "Training with Tanh Activation Function\n",
            "Epoch 1, Loss: 0.3491975483236346, Accuracy: 90.15%\n",
            "Epoch 2, Loss: 0.16734717489639198, Accuracy: 94.935%\n",
            "Epoch 3, Loss: 0.12849084118992757, Accuracy: 96.10166666666667%\n",
            "Epoch 4, Loss: 0.11754679580681773, Accuracy: 96.44%\n",
            "Epoch 5, Loss: 0.10888358026043947, Accuracy: 96.61666666666666%\n",
            "Training Time: 70.38 seconds\n",
            "Test Accuracy: 95.88%\n",
            "Training with ReLU Activation Function\n",
            "Epoch 1, Loss: 0.38517230834518035, Accuracy: 88.46833333333333%\n",
            "Epoch 2, Loss: 0.1839165917472608, Accuracy: 94.48666666666666%\n",
            "Epoch 3, Loss: 0.13605725933124485, Accuracy: 95.81833333333333%\n",
            "Epoch 4, Loss: 0.10860723945230785, Accuracy: 96.54666666666667%\n",
            "Epoch 5, Loss: 0.09448035786857706, Accuracy: 96.995%\n",
            "Training Time: 70.94 seconds\n",
            "Test Accuracy: 95.97%\n",
            "Training with Leaky ReLU Activation Function\n",
            "Epoch 1, Loss: 0.38473317688350867, Accuracy: 88.56166666666667%\n",
            "Epoch 2, Loss: 0.1793532933313042, Accuracy: 94.54333333333334%\n",
            "Epoch 3, Loss: 0.13508275141621798, Accuracy: 95.91833333333334%\n",
            "Epoch 4, Loss: 0.11018155560965763, Accuracy: 96.63166666666666%\n",
            "Epoch 5, Loss: 0.09257001029615447, Accuracy: 97.11%\n",
            "Training Time: 71.20 seconds\n",
            "Test Accuracy: 96.9%\n",
            "Training with ELU Activation Function\n",
            "Epoch 1, Loss: 0.33804021575954807, Accuracy: 89.775%\n",
            "Epoch 2, Loss: 0.15592501596259728, Accuracy: 95.185%\n",
            "Epoch 3, Loss: 0.11202158897058732, Accuracy: 96.50333333333333%\n",
            "Epoch 4, Loss: 0.09013853829923961, Accuracy: 97.16833333333334%\n",
            "Epoch 5, Loss: 0.0752696326208005, Accuracy: 97.575%\n",
            "Training Time: 72.57 seconds\n",
            "Test Accuracy: 97.3%\n",
            "Training with Swish Activation Function\n",
            "Epoch 1, Loss: 0.3371333061242853, Accuracy: 89.75%\n",
            "Epoch 2, Loss: 0.14936015710655623, Accuracy: 95.475%\n",
            "Epoch 3, Loss: 0.10887457692681916, Accuracy: 96.71%\n",
            "Epoch 4, Loss: 0.0903204625133854, Accuracy: 97.115%\n",
            "Epoch 5, Loss: 0.07531192297908242, Accuracy: 97.60833333333333%\n",
            "Training Time: 71.28 seconds\n",
            "Test Accuracy: 97.3%\n",
            "Sigmoid: Accuracy = 96.78%, Training Time = 70.95 seconds\n",
            "Tanh: Accuracy = 95.88%, Training Time = 70.38 seconds\n",
            "ReLU: Accuracy = 95.97%, Training Time = 70.94 seconds\n",
            "Leaky ReLU: Accuracy = 96.9%, Training Time = 71.20 seconds\n",
            "ELU: Accuracy = 97.3%, Training Time = 72.57 seconds\n",
            "Swish: Accuracy = 97.3%, Training Time = 71.28 seconds\n"
          ]
        }
      ]
    },
    {
      "cell_type": "markdown",
      "source": [
        "**Visualize the Results**\n",
        "To compare the performance of the activation functions, let’s plot the training times and accuracies."
      ],
      "metadata": {
        "id": "frx0rkzuqvLN"
      }
    },
    {
      "cell_type": "code",
      "source": [
        "# Plotting the results\n",
        "activation_names = list(results.keys())\n",
        "accuracies = [result['accuracy'] for result in results.values()]\n",
        "training_times = [result['training_time'] for result in results.values()]\n",
        "\n",
        "fig, ax1 = plt.subplots(figsize=(10, 6))\n",
        "\n",
        "# Plot accuracies\n",
        "ax1.set_xlabel('Activation Function')\n",
        "ax1.set_ylabel('Accuracy (%)', color='tab:blue')\n",
        "ax1.bar(activation_names, accuracies, color='tab:blue', alpha=0.6)\n",
        "ax1.tick_params(axis='y', labelcolor='tab:blue')\n",
        "\n",
        "# Create a second y-axis to plot training times\n",
        "ax2 = ax1.twinx()\n",
        "ax2.set_ylabel('Training Time (seconds)', color='tab:orange')\n",
        "ax2.plot(activation_names, training_times, color='tab:orange', marker='o', linestyle='--')\n",
        "ax2.tick_params(axis='y', labelcolor='tab:orange')\n",
        "\n",
        "plt.title('Comparison of Activation Functions in Deep Learning')\n",
        "plt.show()\n"
      ],
      "metadata": {
        "colab": {
          "base_uri": "https://localhost:8080/",
          "height": 564
        },
        "id": "Ef7SjAjYq6tP",
        "outputId": "9c67c735-f51b-4697-e7ff-75e1b2b9ee7a"
      },
      "execution_count": 9,
      "outputs": [
        {
          "output_type": "display_data",
          "data": {
            "text/plain": [
              "<Figure size 1000x600 with 2 Axes>"
            ],
            "image/png": "[encoded data removed]"
          },
          "metadata": {}
        }
      ]
    }
  ]
}